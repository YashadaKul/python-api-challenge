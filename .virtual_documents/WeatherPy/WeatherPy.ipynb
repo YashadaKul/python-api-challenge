


# Dependencies and Setup
import matplotlib.pyplot as plt
import pandas as pd
import numpy as np
import requests
import time
from scipy.stats import linregress

# Import the OpenWeatherMap API key
from api_keys import weather_api_key

# Import citipy to determine the cities based on latitude and longitude
from citipy import citipy





# Empty list for holding the latitude and longitude combinations
lat_lngs = []

# Empty list for holding the cities names
cities = []

# Range of latitudes and longitudes
lat_range = (-90, 90)
lng_range = (-180, 180)

# Create a set of random lat and lng combinations
lats = np.random.uniform(lat_range[0], lat_range[1], size=1500)
lngs = np.random.uniform(lng_range[0], lng_range[1], size=1500)
lat_lngs = zip(lats, lngs)

# Identify nearest city for each lat, lng combination
for lat_lng in lat_lngs:
    city = citipy.nearest_city(lat_lng[0], lat_lng[1]).city_name
    
    # If the city is unique, then add it to a our cities list
    if city not in cities:
        cities.append(city)

# Print the city count to confirm sufficient count
print(f"Number of cities in the list: {len(cities)}")








# Set the API base URL
url = "http://api.openweathermap.org/data/2.5/weather?"
units = "metric"

# Define an empty list to fetch the weather data for each city
city_data = []


# Print to logger
print("Beginning Data Retrieval     ")
print("-----------------------------")

# Create counters
record_count = 1
set_count = 1

# Loop through all the cities in our list to fetch weather data
for i, city in enumerate(cities):
        
    # Group cities in sets of 50 for logging purposes
    if (i % 50 == 0 and i >= 50):
        set_count += 1
        record_count = 0

    # Create endpoint URL with each city
    city_url = f"{url}appid={weather_api_key}&q={city}&units={units}"
    
    # Log the url, record, and set numbers
    print("Processing Record %s of Set %s | %s" % (record_count, set_count, city))

    # Add 1 to the record count
    record_count += 1

    # Run an API request for each of the cities
    try:
        # Parse the JSON and retrieve data
        city_weather = requests.get(city_url).json()

        # Parse out latitude, longitude, max temp, humidity, cloudiness, wind speed, country, and date
        #print(city_weather["coord"])    
        city_lat = city_weather["coord"]["lat"]
        city_lng = city_weather["coord"]["lon"]
        city_max_temp = city_weather["main"]["temp_max"]
        city_humidity = city_weather["main"]["humidity"]
        city_clouds = city_weather["clouds"]["all"]
        city_wind = city_weather["wind"]["speed"]
        city_country = city_weather["sys"]["country"]
        city_date = city_weather["dt"]

        # Append the City information into city_data list
        city_data.append({
                        "City": city, 
                        "Lat": city_lat, 
                          "Lng": city_lng, 
                          "Max Temp": city_max_temp,
                          "Humidity": city_humidity,
                          "Cloudiness": city_clouds,
                          "Wind Speed": city_wind,
                          "Country": city_country,
                          "Date": city_date})
        

    # If an error is experienced, skip the city
    except:
        print("City not found. Skipping...")
        pass
              
# Indicate that Data Loading is complete 
print("-----------------------------")
print("Data Retrieval Complete      ")
print("-----------------------------")


# Convert the cities weather data into a Pandas DataFrame
city_data_df = pd.DataFrame(city_data)


# Show Record Count
city_data_df.count()


# Display sample data
city_data_df


# Export the City_Data into a csv
city_data_df.to_csv("output_data/cities.csv", index_label="City_ID")


# Read saved data
city_data_df = pd.read_csv("output_data/cities.csv", index_col="City_ID")

# Display sample data
city_data_df.head()





# Build scatter plot for latitude vs. temperature
plt.scatter(x = city_data_df["Lat"], y = city_data_df["Max Temp"], 
            marker = "o", edgecolors= "black", facecolors = "steelblue", 
           )

# Incorporate the other graph properties
plt.title("City Max Latitude vs Temperature (2022 - 10 - 18)")
plt.ylabel("Max Temperature (C)")
plt.xlabel("Latitude")
plt.grid()

# Save the figure
plt.savefig("output_data/Fig1.png")

# Show plot
plt.show()





# Build the scatter plots for latitude vs. humidity
plt.scatter(x = city_data_df["Lat"], y = city_data_df["Humidity"], 
            marker = "o", edgecolors= "black", facecolors = "steelblue")

# Incorporate the other graph properties
plt.title("City Latitude vs Humidity (2022 - 10 - 18)")
plt.ylabel("Humidity (%)")
plt.xlabel("Latitude")
plt.grid()

# Save the figure
plt.savefig("output_data/Fig2.png")

# Show plot
plt.show()





# Build the scatter plots for latitude vs. cloudiness
plt.scatter(x = city_data_df["Lat"], y = city_data_df["Cloudiness"], 
            marker = "o", edgecolors= "black", facecolors = "steelblue")


# Incorporate the other graph properties
plt.title("City Latitude vs Cloudiness (2022 - 10 - 18)")
plt.ylabel("Cloudiness (%)")
plt.xlabel("Latitude")
plt.grid()

# Save the figure
plt.savefig("output_data/Fig3.png")

# Show plot
plt.show()





# Build the scatter plots for latitude vs. wind speed
plt.scatter(x = city_data_df["Lat"], y = city_data_df["Wind Speed"], 
            marker = "o", edgecolors= "black", facecolors = "steelblue")

# Incorporate the other graph properties
plt.title("City Latitude vs Wind Speed (2022 - 10 - 18)")
plt.ylabel("Wind Speed (m/s)")
plt.xlabel("Latitude")
plt.grid()

# Save the figure
plt.savefig("output_data/Fig4.png")

# Show plot
plt.show()





# Define a function to create Linear Regression plots
def linear_reg(x_axis_values, y_axis_values):
    (slope, intercept, rvalue, pvalue, stderr) = linregress(x_axis_values, y_axis_values)
    regress_values = x_axis_values * slope + intercept
    line_eq = "y = " + str(round(slope, 2)) + "x + " + str(round(intercept,2))
    return (slope, intercept, rvalue, pvalue, stderr, regress_values, line_eq)


# Create a DataFrame with the Northern Hemisphere data (Latitude >= 0)
northern_hemi_df = city_data_df.loc[ city_data_df["Lat"] >= 0,:]

# Display sample data
northern_hemi_df.head()

# Display sample data
northern_hemi_df.head()


# Create a DataFrame with the Southern Hemisphere data (Latitude < 0)
southern_hemi_df = city_data_df.loc[ city_data_df["Lat"] < 0,:]

# Display sample data
southern_hemi_df.head()





# Linear regression on Northern Hemisphere
#insert values for linear regression function:
x_values = northern_hemi_df["Lat"]
y_values = northern_hemi_df["Max Temp"]
(slope, intercept, rvalue, pvalue, stderr, regress_values, line_eq) = linear_reg(x_values, y_values)

#plot the scatter plot, pearson's r and regression line:
plt.scatter(x = x_values, y = y_values, marker = "o", facecolors = "steelblue")
plt.plot(x_values, regress_values, "r-")
plt.annotate(line_eq, (30,-20), fontsize = 15, color = "red")

# Incorporate the other graph properties
plt.xlabel("Latitude")
plt.ylabel("Max Temperature (C)")
plt.title("Latitude vs Temperature in the Northern Hemisphere")
print(f"The r-squared is: {rvalue**2}")
plt.show()


# Linear regression on Southern Hemisphere
#insert values for linear regression function:
x_values = southern_hemi_df["Lat"]
y_values = southern_hemi_df["Max Temp"]
(slope, intercept, rvalue, pvalue, stderr, regress_values, line_eq) = linear_reg(x_values, y_values)


plt.scatter(x = x_values, y = y_values, marker = "o", facecolors = "steelblue")
plt.plot(x_values, regress_values, "r-")
plt.annotate(line_eq, (-40,5), fontsize = 15, color = "red")


# Incorporate the other graph properties
plt.title("Latitude vs Temperature in the Southern Hemisphere")
plt.ylabel("Max Temperature (C)")
plt.xlabel("Latitude")
print(f"The r-squared is: {rvalue**2}")

# Show plot
plt.show()








# Northern Hemisphere
x_values = northern_hemi_df["Lat"]
y_values = northern_hemi_df["Humidity"]
(slope, intercept, rvalue, pvalue, stderr, regress_values, line_eq) = linear_reg(x_values, y_values)


plt.scatter(x = x_values, y = y_values, marker = "o", facecolors = "steelblue")
plt.plot(x_values, regress_values, "r-")
plt.annotate(line_eq, (40,10), fontsize = 15, color = "red")


# Incorporate the other graph properties
plt.title("Latitude vs Humidity in the Southern Hemisphere")
plt.ylabel("Humidity")
plt.xlabel("Latitude")
print(f"The r-squared is: {rvalue**2}")

# Show plot
plt.show()


# Southern Hemisphere
x_values = southern_hemi_df["Lat"]
y_values = southern_hemi_df["Humidity"]
(slope, intercept, rvalue, pvalue, stderr, regress_values, line_eq) = linear_reg(x_values, y_values)


plt.scatter(x = x_values, y = y_values, marker = "o", facecolors = "steelblue")
plt.plot(x_values, regress_values, "r-")
plt.annotate(line_eq, (-50,20), fontsize = 15, color = "red")


# Incorporate the other graph properties
plt.title("Latitude vs Humidity in the Southern Hemisphere")
plt.ylabel("Humidity")
plt.xlabel("Latitude")
print(f"The r-squared is: {rvalue**2}")

# Show plot
plt.show()








# Northern Hemisphere
x_values = northern_hemi_df["Lat"]
y_values = northern_hemi_df["Cloudiness"]
(slope, intercept, rvalue, pvalue, stderr, regress_values, line_eq) = linear_reg(x_values, y_values)


plt.scatter(x = x_values, y = y_values, marker = "o", facecolors = "steelblue")
plt.plot(x_values, regress_values, "r-")
plt.annotate(line_eq, (-40,5), fontsize = 15, color = "red")


# Incorporate the other graph properties
plt.title("Latitude vs Cloudiness in the Northern Hemisphere")
plt.ylabel("Cloudiness")
plt.xlabel("Latitude")
print(f"The r-squared is: {rvalue**2}")

# Show plot
plt.show()


# Southern Hemisphere
x_values = southern_hemi_df["Lat"]
y_values = southern_hemi_df["Cloudiness"]
(slope, intercept, rvalue, pvalue, stderr, regress_values, line_eq) = linear_reg(x_values, y_values)


plt.scatter(x = x_values, y = y_values, marker = "o", facecolors = "steelblue")
plt.plot(x_values, regress_values, "r-")
plt.annotate(line_eq, (-40,5), fontsize = 15, color = "red")


# Incorporate the other graph properties
plt.title("Latitude vs Cloudiness in the Southern Hemisphere")
plt.ylabel("Cloudiness")
plt.xlabel("Latitude")
print(f"The r-squared is: {rvalue**2}")

# Show plot
plt.show()








# Northern Hemisphere
x_values = northern_hemi_df["Lat"]
y_values = northern_hemi_df["Wind Speed"]
(slope, intercept, rvalue, pvalue, stderr, regress_values, line_eq) = linear_reg(x_values, y_values)


plt.scatter(x = x_values, y = y_values, marker = "o", facecolors = "steelblue")
plt.plot(x_values, regress_values, "r-")
plt.annotate(line_eq, (10,12), fontsize = 15, color = "red")


# Incorporate the other graph properties
plt.title("Latitude vs Wind Speed in the Northern Hemisphere")
plt.ylabel("Wind Speed")
plt.xlabel("Latitude")
print(f"The r-squared is: {rvalue**2}")

# Show plot
plt.show()


# Southern Hemisphere
x_values = southern_hemi_df["Lat"]
y_values = southern_hemi_df["Wind Speed"]
(slope, intercept, rvalue, pvalue, stderr, regress_values, line_eq) = linear_reg(x_values, y_values)


plt.scatter(x = x_values, y = y_values, marker = "o", facecolors = "steelblue")
plt.plot(x_values, regress_values, "r-")
plt.annotate(line_eq, (-50,12), fontsize = 15, color = "red")


# Incorporate the other graph properties
plt.title("Latitude vs Wind Speed in the Southern Hemisphere")
plt.ylabel("Wind Speed")
plt.xlabel("Latitude")
print(f"The r-squared is: {rvalue**2}")

# Show plot
plt.show()



